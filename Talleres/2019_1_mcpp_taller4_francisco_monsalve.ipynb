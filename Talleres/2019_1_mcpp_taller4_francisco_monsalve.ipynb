{
 "cells": [
  {
   "cell_type": "markdown",
   "metadata": {},
   "source": [
    "# Taller 4\n",
    "Métodos Computacionales para Políticas Públicas - URosario\n",
    "\n",
    "**Entrega: viernes 1-mar-2019 11:59 PM**"
   ]
  },
  {
   "cell_type": "markdown",
   "metadata": {},
   "source": [
    "<div class=\"alert alert-success\">\n",
    "**Francisco Monsalve** <br><br>\n",
    "francisco.monsalve@urosario.edu.co\n",
    "</div>"
   ]
  },
  {
   "cell_type": "markdown",
   "metadata": {},
   "source": [
    "## Instrucciones:\n",
    "- Guarde una copia de este *Jupyter Notebook* en su computador, idealmente en una carpeta destinada al material del curso.\n",
    "- Modifique el nombre del archivo del *notebook*, agregando al final un guión inferior y su nombre y apellido, separados estos últimos por otro guión inferior. Por ejemplo, mi *notebook* se llamaría: mcpp_taller4_santiago_matallana\n",
    "- Marque el *notebook* con su nombre y e-mail en el bloque verde arriba. Reemplace el texto \"[Su nombre acá]\" con su nombre y apellido. Similar para su e-mail.\n",
    "- Desarrolle la totalidad del taller sobre este *notebook*, insertando las celdas que sea necesario debajo de cada pregunta. Haga buen uso de las celdas para código y de las celdas tipo *markdown* según el caso.\n",
    "- Recuerde salvar periódicamente sus avances.\n",
    "- Cuando termine el taller:\n",
    "    1. Descárguelo en PDF.\n",
    "    2. Suba los dos archivos (.pdf y .ipynb) a su repositorio en GitHub antes de la fecha y hora límites.\n",
    "\n",
    "(Todos los ejercicios tienen el mismo valor.)"
   ]
  },
  {
   "cell_type": "markdown",
   "metadata": {},
   "source": [
    "---"
   ]
  },
  {
   "cell_type": "markdown",
   "metadata": {},
   "source": [
    "## Zelle, Exercises 6.8 (p. 159):\n",
    "\n",
    "- True/False: 1-10\n",
    "- Multiple choice: 2, 3, 6, 7, 10\n",
    "- Programming Exercises: 1, 3, 4, 11, 12, 13"
   ]
  },
  {
   "cell_type": "markdown",
   "metadata": {},
   "source": [
    "## True/False"
   ]
  },
  {
   "cell_type": "markdown",
   "metadata": {},
   "source": [
    "    - 1. Programmers rarely define their own functions. \n",
    "    False\n",
    "    - 2. A function may only be called at one place in a program \n",
    "    False\n",
    "    - 3. Information can be passed into a function through parameters\n",
    "    True\n",
    "    - 4. Every Python function returns some value\n",
    "    True\n",
    "    - 5. In Python, some parameters are passed by reference \n",
    "    False\n",
    "    - 6. In Python, a function can return only one value \n",
    "    False\n",
    "    - 7. Python Functions can never modify a parameter \n",
    "    False\n",
    "    - 8. One reason to use functions is to reduce code duplication\n",
    "    True\n",
    "    - 9. Variables defined in a function are local to that function\n",
    "    True\n",
    "    - 10. It´s a bad idea to define new functions if ti makes a program longer\n",
    "    False\n",
    "\n"
   ]
  },
  {
   "cell_type": "markdown",
   "metadata": {},
   "source": [
    "## Multiple choice"
   ]
  },
  {
   "cell_type": "markdown",
   "metadata": {},
   "source": [
    "    2. A Python function definition begins with:\n",
    "        a) def \n",
    "\n",
    "    3. A function can send output back to the program with a (n)\n",
    "        a) return\n",
    "\n",
    "    6. In Python, actual parameters are passed to functions \n",
    "        a) by value \n",
    "\n",
    "    7. Which of the following is not a reason to use functions?  \n",
    "        d) to demostrate intellectual superiority\n",
    "\n",
    "    10. A function can modify the value of an actual parameter only if its\n",
    "        a) mutable \n"
   ]
  },
  {
   "cell_type": "markdown",
   "metadata": {},
   "source": [
    "Programming Exercises:1, 3, 4, 11, 12, 13"
   ]
  },
  {
   "cell_type": "markdown",
   "metadata": {},
   "source": [
    "## 1. Print \"Old MacDonald\" for 5 different animals "
   ]
  },
  {
   "cell_type": "code",
   "execution_count": 1,
   "metadata": {},
   "outputs": [],
   "source": [
    "sound = [\"moo\", \"oink\", \"quak\", \"neigh\", \"baa\"]\n",
    "animals = [\"cow\", \"pig\", \"duck\", \"horse\", \"lamb\"]"
   ]
  },
  {
   "cell_type": "markdown",
   "metadata": {},
   "source": [
    "Old MacDonald had a farm, Ee-igh, Ee-igh, Oh!\n",
    "And on his farm he had a X, Ee-igh, Ee-igh, Oh!\n",
    "With a Y Y here and a Y Y there.\n",
    "Here a Y, there a Y, everywhere a Y, Y.\n",
    "Old MacDonald had a farm, Ee-igh, Ee-igh, Oh!"
   ]
  },
  {
   "cell_type": "code",
   "execution_count": 4,
   "metadata": {
    "scrolled": false
   },
   "outputs": [
    {
     "name": "stdout",
     "output_type": "stream",
     "text": [
      "Old MacDonald had a farm, Ee-igh, Ee-igh, Oh! \n",
      " And on his farm he had a  cow Ee-igh, Ee-igh, Oh!\n",
      "with a  moo , moo here and a  moo , moo there. \n",
      " Here a moo , there a  moo , everywhere a  moo , moo . \n",
      " Old MacDonald had a farm, Ee-igh, Ee-igh, Oh! \n",
      "\n",
      "Old MacDonald had a farm, Ee-igh, Ee-igh, Oh! \n",
      " And on his farm he had a  pig Ee-igh, Ee-igh, Oh!\n",
      "with a  oink , oink here and a  oink , oink there. \n",
      " Here a oink , there a  oink , everywhere a  oink , oink . \n",
      " Old MacDonald had a farm, Ee-igh, Ee-igh, Oh! \n",
      "\n",
      "Old MacDonald had a farm, Ee-igh, Ee-igh, Oh! \n",
      " And on his farm he had a  duck Ee-igh, Ee-igh, Oh!\n",
      "with a  quak , quak here and a  quak , quak there. \n",
      " Here a quak , there a  quak , everywhere a  quak , quak . \n",
      " Old MacDonald had a farm, Ee-igh, Ee-igh, Oh! \n",
      "\n",
      "Old MacDonald had a farm, Ee-igh, Ee-igh, Oh! \n",
      " And on his farm he had a  horse Ee-igh, Ee-igh, Oh!\n",
      "with a  neigh , neigh here and a  neigh , neigh there. \n",
      " Here a neigh , there a  neigh , everywhere a  neigh , neigh . \n",
      " Old MacDonald had a farm, Ee-igh, Ee-igh, Oh! \n",
      "\n",
      "Old MacDonald had a farm, Ee-igh, Ee-igh, Oh! \n",
      " And on his farm he had a  lamb Ee-igh, Ee-igh, Oh!\n",
      "with a  baa , baa here and a  baa , baa there. \n",
      " Here a baa , there a  baa , everywhere a  baa , baa . \n",
      " Old MacDonald had a farm, Ee-igh, Ee-igh, Oh! \n",
      "\n"
     ]
    }
   ],
   "source": [
    "for i in range(5):\n",
    "    print(\"Old MacDonald had a farm, Ee-igh, Ee-igh, Oh!\", \"\\n\", \"And on his farm he had a \",animals[i], \"Ee-igh, Ee-igh, Oh!\")\n",
    "    print(\"with a \",sound[i],\",\",sound[i], \"here and a \", sound[i],\",\", sound[i],\"there.\", \"\\n\", \"Here a\",sound[i],\",\", \"there a \", sound[i], \n",
    "          \",\",\"everywhere a \",sound[i],\",\",sound[i],\".\", \"\\n\",\"Old MacDonald had a farm, Ee-igh, Ee-igh, Oh!\",\"\\n\")"
   ]
  },
  {
   "cell_type": "markdown",
   "metadata": {},
   "source": [
    "## 3. Write deffinitions for functions"
   ]
  },
  {
   "cell_type": "markdown",
   "metadata": {},
   "source": [
    "- sphereArea(radius) Returns the surface area of a sphere having the given radius\n",
    "- sphereVolume(radius) Returns the volume of a sphere having the given radius"
   ]
  },
  {
   "cell_type": "code",
   "execution_count": 5,
   "metadata": {},
   "outputs": [],
   "source": [
    "pi = 3.141592"
   ]
  },
  {
   "cell_type": "code",
   "execution_count": 6,
   "metadata": {},
   "outputs": [],
   "source": [
    "def sphereArea(r):\n",
    "    a = (4)*pi*(r**2)\n",
    "    return a\n"
   ]
  },
  {
   "cell_type": "code",
   "execution_count": 7,
   "metadata": {
    "scrolled": false
   },
   "outputs": [
    {
     "data": {
      "text/plain": [
       "314.1592"
      ]
     },
     "execution_count": 7,
     "metadata": {},
     "output_type": "execute_result"
    }
   ],
   "source": [
    "sphereArea(5)"
   ]
  },
  {
   "cell_type": "code",
   "execution_count": 8,
   "metadata": {},
   "outputs": [],
   "source": [
    "def sphereVolume(r):\n",
    "    a = (4/3)*pi*(r**3)\n",
    "    return a\n"
   ]
  },
  {
   "cell_type": "code",
   "execution_count": 9,
   "metadata": {},
   "outputs": [
    {
     "data": {
      "text/plain": [
       "2144.6601386666666"
      ]
     },
     "execution_count": 9,
     "metadata": {},
     "output_type": "execute_result"
    }
   ],
   "source": [
    "sphereVolume(8)"
   ]
  },
  {
   "cell_type": "markdown",
   "metadata": {},
   "source": [
    "   ## 4. Write definitions\n",
    "- sumN(n) returns the sum of the first n natural numbers\n",
    "- sumNcubes(n) retunrs the sume of the cubes of the first n natural numbers\n",
    "\n",
    "Then use these functions in a program that pompts a user for n and prints out the sum of the first n natural numers and then the sum of the cubes of the first n natural numbers. (Natural numbers= non negative integers)"
   ]
  },
  {
   "cell_type": "code",
   "execution_count": 10,
   "metadata": {},
   "outputs": [],
   "source": [
    "def sumN(n):\n",
    "    s=0\n",
    "    for i in range(1,n+1):\n",
    "        s=s+i\n",
    "    return s"
   ]
  },
  {
   "cell_type": "code",
   "execution_count": 11,
   "metadata": {},
   "outputs": [
    {
     "data": {
      "text/plain": [
       "45"
      ]
     },
     "execution_count": 11,
     "metadata": {},
     "output_type": "execute_result"
    }
   ],
   "source": [
    "sumN(9)"
   ]
  },
  {
   "cell_type": "code",
   "execution_count": 12,
   "metadata": {},
   "outputs": [],
   "source": [
    "def sumNCubes(n):\n",
    "    sc = 0\n",
    "    for i in range(1,n+1):\n",
    "        sc= sc + (i**3)\n",
    "    return sc"
   ]
  },
  {
   "cell_type": "code",
   "execution_count": 13,
   "metadata": {},
   "outputs": [
    {
     "data": {
      "text/plain": [
       "36"
      ]
     },
     "execution_count": 13,
     "metadata": {},
     "output_type": "execute_result"
    }
   ],
   "source": [
    "sumNCubes(3)"
   ]
  },
  {
   "cell_type": "markdown",
   "metadata": {},
   "source": [
    "   ## 11. Write and test a function to meet this specification\n",
    "\n",
    "squareEach(nums) nums is a list of numbers. Modifies the the list by squaring each entry"
   ]
  },
  {
   "cell_type": "code",
   "execution_count": 14,
   "metadata": {},
   "outputs": [],
   "source": [
    "nums =[1,3,2,4,6,7,8,3,5,2,1,1]\n",
    "nums2 = [1,2,35,7,5,3,7,8,9]"
   ]
  },
  {
   "cell_type": "code",
   "execution_count": 15,
   "metadata": {},
   "outputs": [],
   "source": [
    "numsq = []\n",
    "def squareEach(nums):\n",
    "    for i in nums:\n",
    "        sq = i**2\n",
    "        numsq.append(sq)\n",
    "    return numsq\n",
    "        "
   ]
  },
  {
   "cell_type": "code",
   "execution_count": 16,
   "metadata": {},
   "outputs": [
    {
     "data": {
      "text/plain": [
       "[1, 9, 4, 16, 36, 49, 64, 9, 25, 4, 1, 1]"
      ]
     },
     "execution_count": 16,
     "metadata": {},
     "output_type": "execute_result"
    }
   ],
   "source": [
    "squareEach(nums)"
   ]
  },
  {
   "cell_type": "markdown",
   "metadata": {},
   "source": [
    "  ##  12.Write and test a function to meet this specification\n",
    "    \n",
    "sumList(nums) nums is a list of numbers. Returns the sum of the numbers in the list"
   ]
  },
  {
   "cell_type": "code",
   "execution_count": 17,
   "metadata": {},
   "outputs": [],
   "source": [
    "def sumList(nums):\n",
    "    suml = sum(nums)\n",
    "    return suml"
   ]
  },
  {
   "cell_type": "code",
   "execution_count": 18,
   "metadata": {},
   "outputs": [
    {
     "data": {
      "text/plain": [
       "77"
      ]
     },
     "execution_count": 18,
     "metadata": {},
     "output_type": "execute_result"
    }
   ],
   "source": [
    "sumList(nums2)"
   ]
  },
  {
   "cell_type": "code",
   "execution_count": 19,
   "metadata": {},
   "outputs": [],
   "source": [
    "# Definir una función, sin usar \"sum\"\n",
    "def sumList1(nums):\n",
    "    suml = 0\n",
    "    for i in nums:\n",
    "        suml = suml + i \n",
    "    return suml"
   ]
  },
  {
   "cell_type": "code",
   "execution_count": 20,
   "metadata": {},
   "outputs": [
    {
     "data": {
      "text/plain": [
       "77"
      ]
     },
     "execution_count": 20,
     "metadata": {},
     "output_type": "execute_result"
    }
   ],
   "source": [
    "sumList1(nums2)"
   ]
  },
  {
   "cell_type": "markdown",
   "metadata": {},
   "source": [
    "   ## 13.Write and test a function to meet this specification\n",
    "    \n",
    "toNumbers(strList) strList is a list of srtings, each of which represents a number. Modifies each entry in the list by converting it to a number."
   ]
  },
  {
   "cell_type": "code",
   "execution_count": 21,
   "metadata": {},
   "outputs": [],
   "source": [
    "strList=[\"1\",\"2\",\"3\",\"4\",\"5\",\"10\",\"20\"]"
   ]
  },
  {
   "cell_type": "code",
   "execution_count": 22,
   "metadata": {},
   "outputs": [
    {
     "data": {
      "text/plain": [
       "list"
      ]
     },
     "execution_count": 22,
     "metadata": {},
     "output_type": "execute_result"
    }
   ],
   "source": [
    "type(strList)"
   ]
  },
  {
   "cell_type": "code",
   "execution_count": 23,
   "metadata": {},
   "outputs": [
    {
     "data": {
      "text/plain": [
       "str"
      ]
     },
     "execution_count": 23,
     "metadata": {},
     "output_type": "execute_result"
    }
   ],
   "source": [
    "type(strList[1])"
   ]
  },
  {
   "cell_type": "code",
   "execution_count": 24,
   "metadata": {},
   "outputs": [],
   "source": [
    "def toNumbers(strList):\n",
    "    for i in range(len(strList)):\n",
    "        strList[i]=int(strList[i])\n",
    "    return strList"
   ]
  },
  {
   "cell_type": "code",
   "execution_count": 25,
   "metadata": {},
   "outputs": [
    {
     "data": {
      "text/plain": [
       "[1, 2, 3, 4, 5, 10, 20]"
      ]
     },
     "execution_count": 25,
     "metadata": {},
     "output_type": "execute_result"
    }
   ],
   "source": [
    "intlist=[\"1\",\"2\",\"3\",\"4\",\"5\",\"10\",\"20\"]\n",
    "toNumbers(intlist)"
   ]
  },
  {
   "cell_type": "code",
   "execution_count": 27,
   "metadata": {},
   "outputs": [
    {
     "data": {
      "text/plain": [
       "int"
      ]
     },
     "execution_count": 27,
     "metadata": {},
     "output_type": "execute_result"
    }
   ],
   "source": [
    "type(intlist[1])"
   ]
  },
  {
   "cell_type": "markdown",
   "metadata": {},
   "source": [
    "---"
   ]
  }
 ],
 "metadata": {
  "anaconda-cloud": {},
  "kernelspec": {
   "display_name": "Python 3",
   "language": "python",
   "name": "python3"
  },
  "language_info": {
   "codemirror_mode": {
    "name": "ipython",
    "version": 3
   },
   "file_extension": ".py",
   "mimetype": "text/x-python",
   "name": "python",
   "nbconvert_exporter": "python",
   "pygments_lexer": "ipython3",
   "version": "3.7.1"
  }
 },
 "nbformat": 4,
 "nbformat_minor": 1
}
